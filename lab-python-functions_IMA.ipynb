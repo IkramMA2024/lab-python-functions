{
 "cells": [
  {
   "cell_type": "markdown",
   "id": "25d7736c-ba17-4aff-b6bb-66eba20fbf4e",
   "metadata": {},
   "source": [
    "# Lab | Functions"
   ]
  },
  {
   "cell_type": "markdown",
   "id": "0c581062-8967-4d93-b06e-62833222f930",
   "metadata": {
    "tags": []
   },
   "source": [
    "## Exercise: Managing Customer Orders with Functions\n",
    "\n",
    "In the previous exercise, you improved the code for managing customer orders by using loops and flow control. Now, let's take it a step further and refactor the code by introducing functions.\n",
    "\n",
    "Follow the steps below to complete the exercise:\n",
    "\n",
    "1. Define a function named `initialize_inventory` that takes `products` as a parameter. Inside the function, implement the code for initializing the inventory dictionary using a loop and user input.\n",
    "\n",
    "2. Define a function named `get_customer_orders` that takes no parameters. Inside the function, implement the code for prompting the user to enter the product names using a loop. The function should return the `customer_orders` set.\n",
    "\n",
    "3. Define a function named `update_inventory` that takes `customer_orders` and `inventory` as parameters. Inside the function, implement the code for updating the inventory dictionary based on the customer orders.\n",
    "\n",
    "4. Define a function named `calculate_order_statistics` that takes `customer_orders` and `products` as parameters. Inside the function, implement the code for calculating the order statistics (total products ordered, and percentage of unique products ordered). The function should return these values.\n",
    "\n",
    "5. Define a function named `print_order_statistics` that takes `order_statistics` as a parameter. Inside the function, implement the code for printing the order statistics.\n",
    "\n",
    "6. Define a function named `print_updated_inventory` that takes `inventory` as a parameter. Inside the function, implement the code for printing the updated inventory.\n",
    "\n",
    "7. Call the functions in the appropriate sequence to execute the program and manage customer orders.\n",
    "\n",
    "Hints for functions:\n",
    "\n",
    "- Consider the input parameters required for each function and their return values.\n",
    "- Utilize function parameters and return values to transfer data between functions.\n",
    "- Test your functions individually to ensure they work correctly.\n",
    "\n",
    "\n"
   ]
  },
  {
   "cell_type": "code",
   "execution_count": 9,
   "id": "66e31763-71db-4112-939f-c4a841e11191",
   "metadata": {},
   "outputs": [],
   "source": [
    "products = [\"t-shirt\", \"mug\", \"hat\", \"book\", \"keychain\"]"
   ]
  },
  {
   "cell_type": "code",
   "execution_count": 14,
   "id": "e2a160d4-d374-405a-a942-90015a3e4f8c",
   "metadata": {},
   "outputs": [],
   "source": [
    "#Define a function named initialize_inventory that takes products as a parameter. \n",
    "#Inside the function, implement the code for initializing the inventory dictionary using a loop and user input.\n",
    "\n",
    "#1. Création de la fonction: def + nom de la fonction + paramètres (ici, la liste des produits car c'est l'input que l'on veut utiliser)\n",
    "\n",
    "#2. Création de la bibliothèque inventory (vide pour le moment) qui servira de variables stockera le nom des produits et leur quantité\n",
    "\n",
    "#3. Création de la boucle for pour indiquer que la formule doit s'exécuter pour les produits dans la liste products\n",
    "\n",
    "#4. Création de la variable quantity incluant un input en INT, laissant à l'utilisateur la possibilité de saisir la quantité \n",
    "        #SEULEMENT parmi les éléments de la liste product. On le précise in incluant dans l'input ('{product}'\n",
    "\n",
    "#5. Mise à jour du dictionnaire inventory: on appelle les product issus de la liste products, et on affecte les quantités saisies par l'utilisateur dans quantity\n",
    "\n",
    "#6. Utilisation de la fonction return pour que la nouvelle version de l'inventaire soit disponible \n",
    "\n",
    "def initialize_inventory(products):\n",
    "    inventory = {}\n",
    "    for product in products:\n",
    "        quantity = int(input(f\"Entrez la quantité disponible pour '{product}': \"))\n",
    "        inventory[product] = quantity\n",
    "    return inventory"
   ]
  },
  {
   "cell_type": "code",
   "execution_count": 15,
   "id": "2916e2fe-c56e-4942-a2cb-c7ddc794a0bd",
   "metadata": {},
   "outputs": [],
   "source": [
    "#Define a function named get_customer_orders that takes no parameters. \n",
    "#Inside the function, implement the code for prompting the user to enter the product names using a loop. \n",
    "#The function should return the customer_orders set.\n",
    "\n",
    "#1. Création d'une fonction get_customer_orders qui prend en paramètres (en input) la liste des produits, et le dictionnaire de l'inventaire\n",
    "\n",
    "#2. Création du dictionnaire customer_orders, qui sera pour stocker les commandes du client\n",
    "\n",
    "#3. Création de la boucle while true (tant que c'est vrai) qui va me servir à contrôler que certaines conditions sont respectées:\n",
    "\n",
    "          #Que l'utilisateur n'a pas saisit \"fini\" car cela indique la fin de la commande (\"break\" utilisé pour interrompre la boucle)\n",
    "\n",
    "          #Que le produit saisit par l'utilisateur est présent dans la liste products. \n",
    "              #SI CE N'EST PAS LE CAS: message d'erreur \"produit non disponible\"\n",
    "\n",
    "          #Que le produit saisit par l'utilisateur que le produit n'a pas déjà été commandé (s'il est déjà présent dans customer_order)\n",
    "\n",
    "  #3.1. Création d'une nouvelle boucle while true (qui est une sous boucle de la première while true), qui va me servir à controler:\n",
    "\n",
    "         #que la saisie effectuée par l'utilisateur est bien un nombreentier\n",
    "         #que la quantité de produits commandés est inférieur au stock\n",
    "\n",
    "#4. Création d'une fonction qui met l'inventaire à jour \n",
    "\n",
    "#5. Création d'une fonction qui va me calculer le nombre de produits commandés\n",
    "\n",
    "#6. Création d'une fonction qui va afficher le total des produits commandés\n",
    "\n",
    "#7. Création d'une fonction qui va afficher l'inventaire mis à jour "
   ]
  },
  {
   "cell_type": "code",
   "execution_count": 27,
   "id": "3bb7d035-878d-4dea-867d-ef2212801472",
   "metadata": {
    "scrolled": true
   },
   "outputs": [
    {
     "name": "stdin",
     "output_type": "stream",
     "text": [
      "Entrez la quantité disponible pour 't-shirt':  876876\n",
      "Entrez la quantité disponible pour 'mug':  76576\n",
      "Entrez la quantité disponible pour 'chapeau':  75765\n",
      "Entrez la quantité disponible pour 'livre':  76676\n",
      "Entrez la quantité disponible pour 'porte-clés':  7677\n"
     ]
    },
    {
     "name": "stdout",
     "output_type": "stream",
     "text": [
      "Produits disponibles : t-shirt, mug, chapeau, livre, porte-clés\n"
     ]
    },
    {
     "name": "stdin",
     "output_type": "stream",
     "text": [
      "Veuillez choisir un produit parmi la liste ci-dessus (ou tapez 'fini' pour terminer):  mug\n",
      "Quantité de 'mug' commandée :  76\n",
      "Voulez-vous commander d'autres produits ? (oui/non) :  oui\n"
     ]
    },
    {
     "name": "stdout",
     "output_type": "stream",
     "text": [
      "Produits disponibles : t-shirt, mug, chapeau, livre, porte-clés\n"
     ]
    },
    {
     "name": "stdin",
     "output_type": "stream",
     "text": [
      "Veuillez choisir un produit parmi la liste ci-dessus (ou tapez 'fini' pour terminer):  livre\n",
      "Quantité de 'livre' commandée :  42\n",
      "Voulez-vous commander d'autres produits ? (oui/non) :  oui\n"
     ]
    },
    {
     "name": "stdout",
     "output_type": "stream",
     "text": [
      "Produits disponibles : t-shirt, mug, chapeau, livre, porte-clés\n"
     ]
    },
    {
     "name": "stdin",
     "output_type": "stream",
     "text": [
      "Veuillez choisir un produit parmi la liste ci-dessus (ou tapez 'fini' pour terminer):  t-shirt\n",
      "Quantité de 't-shirt' commandée :  756\n",
      "Voulez-vous commander d'autres produits ? (oui/non) :  non\n"
     ]
    },
    {
     "name": "stdout",
     "output_type": "stream",
     "text": [
      "Total des produits commandés : 874\n",
      "Inventaire mis à jour :\n",
      "t-shirt: 876120\n",
      "mug: 76500\n",
      "chapeau: 75765\n",
      "livre: 76634\n",
      "porte-clés: 7677\n"
     ]
    }
   ],
   "source": [
    "def initialize_inventory(products):\n",
    "    inventory = {}\n",
    "    for product in products:\n",
    "        quantity = int(input(f\"Entrez la quantité disponible pour '{product}': \"))\n",
    "        inventory[product] = quantity\n",
    "    return inventory\n",
    "\n",
    "def get_customer_orders(products, inventory):\n",
    "    customer_orders = {}\n",
    "    while True:\n",
    "        print(\"Produits disponibles :\", \", \".join(products))\n",
    "        product_choice = input(\"Veuillez choisir un produit parmi la liste ci-dessus (ou tapez 'fini' pour terminer): \")\n",
    "        if product_choice.lower() == 'fini':\n",
    "            break\n",
    "        if product_choice not in products:\n",
    "            print(\"Produit non disponible.\")\n",
    "            continue\n",
    "        if product_choice in customer_orders:\n",
    "            print(\"Vous avez déjà commandé ce produit.\")\n",
    "            continue\n",
    "        while True:\n",
    "            quantity_input = input(f\"Quantité de '{product_choice}' commandée : \")\n",
    "            if quantity_input.lower() == 'fini':\n",
    "                return customer_orders\n",
    "            try:\n",
    "                quantity = int(quantity_input)\n",
    "                if quantity <= 0:\n",
    "                    print(\"Veuillez entrer une quantité valide (nombre entier positif).\")\n",
    "                    continue\n",
    "                elif quantity > inventory[product_choice]:\n",
    "                    print(\"Quantité insuffisante en stock.\")\n",
    "                    continue\n",
    "                else:\n",
    "                    customer_orders[product_choice] = quantity\n",
    "                    break\n",
    "            except ValueError:\n",
    "                print(\"Veuillez entrer un nombre entier pour la quantité.\")\n",
    "                continue\n",
    "        if input(\"Voulez-vous commander d'autres produits ? (oui/non) : \").lower() != 'oui':\n",
    "            break\n",
    "    return customer_orders\n",
    "\n",
    "def update_inventory(customer_orders, inventory):\n",
    "    for product, quantity in customer_orders.items():\n",
    "        inventory[product] -= quantity\n",
    "    return inventory\n",
    "\n",
    "def calculate_order_statistics(customer_orders):\n",
    "    total_ordered = sum(customer_orders.values())\n",
    "    return total_ordered\n",
    "\n",
    "def print_order_statistics(total_ordered):\n",
    "    print(\"Total des produits commandés :\", total_ordered)\n",
    "\n",
    "def print_updated_inventory(inventory):\n",
    "    print(\"Inventaire mis à jour :\")\n",
    "    for product, quantity in inventory.items():\n",
    "        print(f\"{product}: {quantity}\")\n",
    "\n",
    "products = [\"t-shirt\", \"mug\", \"chapeau\", \"livre\", \"porte-clés\"]\n",
    "inventory = initialize_inventory(products)\n",
    "customer_orders = get_customer_orders(products, inventory)\n",
    "inventory = update_inventory(customer_orders, inventory)\n",
    "total_ordered = calculate_order_statistics(customer_orders)\n",
    "print_order_statistics(total_ordered)\n",
    "print_updated_inventory(inventory)\n",
    "\n"
   ]
  },
  {
   "cell_type": "code",
   "execution_count": null,
   "id": "5aad027e-ce06-4319-8c66-bee7a712da00",
   "metadata": {},
   "outputs": [],
   "source": []
  }
 ],
 "metadata": {
  "kernelspec": {
   "display_name": "Python 3 (ipykernel)",
   "language": "python",
   "name": "python3"
  },
  "language_info": {
   "codemirror_mode": {
    "name": "ipython",
    "version": 3
   },
   "file_extension": ".py",
   "mimetype": "text/x-python",
   "name": "python",
   "nbconvert_exporter": "python",
   "pygments_lexer": "ipython3",
   "version": "3.11.7"
  }
 },
 "nbformat": 4,
 "nbformat_minor": 5
}
